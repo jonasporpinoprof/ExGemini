{
  "nbformat": 4,
  "nbformat_minor": 0,
  "metadata": {
    "colab": {
      "provenance": [],
      "authorship_tag": "ABX9TyNAEtvpa4xckMgINVDw9R+X",
      "include_colab_link": true
    },
    "kernelspec": {
      "name": "python3",
      "display_name": "Python 3"
    },
    "language_info": {
      "name": "python"
    }
  },
  "cells": [
    {
      "cell_type": "markdown",
      "metadata": {
        "id": "view-in-github",
        "colab_type": "text"
      },
      "source": [
        "<a href=\"https://colab.research.google.com/github/jonasporpinoprof/ExGemini/blob/main/TesteGemini.ipynb\" target=\"_parent\"><img src=\"https://colab.research.google.com/assets/colab-badge.svg\" alt=\"Open In Colab\"/></a>"
      ]
    },
    {
      "cell_type": "code",
      "execution_count": 7,
      "metadata": {
        "colab": {
          "base_uri": "https://localhost:8080/"
        },
        "id": "qFBCMtBhwDmd",
        "outputId": "ae62edef-e0ef-42f9-8115-a2bb61a63cc9"
      },
      "outputs": [
        {
          "output_type": "stream",
          "name": "stdout",
          "text": [
            "Requirement already satisfied: google-generativeai in /usr/local/lib/python3.10/dist-packages (0.5.2)\n",
            "Requirement already satisfied: google-ai-generativelanguage==0.6.2 in /usr/local/lib/python3.10/dist-packages (from google-generativeai) (0.6.2)\n",
            "Requirement already satisfied: google-api-core in /usr/local/lib/python3.10/dist-packages (from google-generativeai) (2.11.1)\n",
            "Requirement already satisfied: google-api-python-client in /usr/local/lib/python3.10/dist-packages (from google-generativeai) (2.84.0)\n",
            "Requirement already satisfied: google-auth>=2.15.0 in /usr/local/lib/python3.10/dist-packages (from google-generativeai) (2.27.0)\n",
            "Requirement already satisfied: protobuf in /usr/local/lib/python3.10/dist-packages (from google-generativeai) (3.20.3)\n",
            "Requirement already satisfied: pydantic in /usr/local/lib/python3.10/dist-packages (from google-generativeai) (2.7.0)\n",
            "Requirement already satisfied: tqdm in /usr/local/lib/python3.10/dist-packages (from google-generativeai) (4.66.2)\n",
            "Requirement already satisfied: typing-extensions in /usr/local/lib/python3.10/dist-packages (from google-generativeai) (4.11.0)\n",
            "Requirement already satisfied: proto-plus<2.0.0dev,>=1.22.3 in /usr/local/lib/python3.10/dist-packages (from google-ai-generativelanguage==0.6.2->google-generativeai) (1.23.0)\n",
            "Requirement already satisfied: cachetools<6.0,>=2.0.0 in /usr/local/lib/python3.10/dist-packages (from google-auth>=2.15.0->google-generativeai) (5.3.3)\n",
            "Requirement already satisfied: pyasn1-modules>=0.2.1 in /usr/local/lib/python3.10/dist-packages (from google-auth>=2.15.0->google-generativeai) (0.4.0)\n",
            "Requirement already satisfied: rsa<5,>=3.1.4 in /usr/local/lib/python3.10/dist-packages (from google-auth>=2.15.0->google-generativeai) (4.9)\n",
            "Requirement already satisfied: googleapis-common-protos<2.0.dev0,>=1.56.2 in /usr/local/lib/python3.10/dist-packages (from google-api-core->google-generativeai) (1.63.0)\n",
            "Requirement already satisfied: requests<3.0.0.dev0,>=2.18.0 in /usr/local/lib/python3.10/dist-packages (from google-api-core->google-generativeai) (2.31.0)\n",
            "Requirement already satisfied: httplib2<1dev,>=0.15.0 in /usr/local/lib/python3.10/dist-packages (from google-api-python-client->google-generativeai) (0.22.0)\n",
            "Requirement already satisfied: google-auth-httplib2>=0.1.0 in /usr/local/lib/python3.10/dist-packages (from google-api-python-client->google-generativeai) (0.1.1)\n",
            "Requirement already satisfied: uritemplate<5,>=3.0.1 in /usr/local/lib/python3.10/dist-packages (from google-api-python-client->google-generativeai) (4.1.1)\n",
            "Requirement already satisfied: annotated-types>=0.4.0 in /usr/local/lib/python3.10/dist-packages (from pydantic->google-generativeai) (0.6.0)\n",
            "Requirement already satisfied: pydantic-core==2.18.1 in /usr/local/lib/python3.10/dist-packages (from pydantic->google-generativeai) (2.18.1)\n",
            "Requirement already satisfied: grpcio<2.0dev,>=1.33.2 in /usr/local/lib/python3.10/dist-packages (from google-api-core->google-generativeai) (1.62.2)\n",
            "Requirement already satisfied: grpcio-status<2.0.dev0,>=1.33.2 in /usr/local/lib/python3.10/dist-packages (from google-api-core->google-generativeai) (1.48.2)\n",
            "Requirement already satisfied: pyparsing!=3.0.0,!=3.0.1,!=3.0.2,!=3.0.3,<4,>=2.4.2 in /usr/local/lib/python3.10/dist-packages (from httplib2<1dev,>=0.15.0->google-api-python-client->google-generativeai) (3.1.2)\n",
            "Requirement already satisfied: pyasn1<0.7.0,>=0.4.6 in /usr/local/lib/python3.10/dist-packages (from pyasn1-modules>=0.2.1->google-auth>=2.15.0->google-generativeai) (0.6.0)\n",
            "Requirement already satisfied: charset-normalizer<4,>=2 in /usr/local/lib/python3.10/dist-packages (from requests<3.0.0.dev0,>=2.18.0->google-api-core->google-generativeai) (3.3.2)\n",
            "Requirement already satisfied: idna<4,>=2.5 in /usr/local/lib/python3.10/dist-packages (from requests<3.0.0.dev0,>=2.18.0->google-api-core->google-generativeai) (3.7)\n",
            "Requirement already satisfied: urllib3<3,>=1.21.1 in /usr/local/lib/python3.10/dist-packages (from requests<3.0.0.dev0,>=2.18.0->google-api-core->google-generativeai) (2.0.7)\n",
            "Requirement already satisfied: certifi>=2017.4.17 in /usr/local/lib/python3.10/dist-packages (from requests<3.0.0.dev0,>=2.18.0->google-api-core->google-generativeai) (2024.2.2)\n"
          ]
        }
      ],
      "source": [
        "!pip install -U google-generativeai\n",
        "import google.generativeai as genai\n",
        "from google.colab import userdata"
      ]
    },
    {
      "cell_type": "code",
      "source": [
        "GOOGLE_API_KEY=userdata.get('GOOGLE_API_KEY')\n",
        "genai.configure(api_key=GOOGLE_API_KEY)"
      ],
      "metadata": {
        "id": "8wGPHC1ZyBIB"
      },
      "execution_count": 8,
      "outputs": []
    },
    {
      "cell_type": "code",
      "source": [
        "for m in genai.list_models():\n",
        "  if 'generateContent' in m.supported_generation_methods:\n",
        "    print(m.name)"
      ],
      "metadata": {
        "colab": {
          "base_uri": "https://localhost:8080/",
          "height": 139
        },
        "id": "jlnVyaqDzAGQ",
        "outputId": "8ce1cf7d-a53b-4fb1-df71-dc962556e758"
      },
      "execution_count": 9,
      "outputs": [
        {
          "output_type": "stream",
          "name": "stdout",
          "text": [
            "models/gemini-1.0-pro\n",
            "models/gemini-1.0-pro-001\n",
            "models/gemini-1.0-pro-latest\n",
            "models/gemini-1.0-pro-vision-latest\n",
            "models/gemini-1.5-pro-latest\n",
            "models/gemini-pro\n",
            "models/gemini-pro-vision\n"
          ]
        }
      ]
    },
    {
      "cell_type": "code",
      "source": [
        "model = genai.GenerativeModel('gemini-1.0-pro')"
      ],
      "metadata": {
        "id": "MshCiGtkzMmv"
      },
      "execution_count": 10,
      "outputs": []
    },
    {
      "cell_type": "code",
      "source": [
        "response = model.generate_content(\"Como ser um bom programador?\")\n",
        "print(\"Resposta\", response.text)"
      ],
      "metadata": {
        "colab": {
          "base_uri": "https://localhost:8080/",
          "height": 575
        },
        "id": "CIyTs4SBzRYy",
        "outputId": "46ca8511-5a0d-4375-d608-7195c99320ed"
      },
      "execution_count": 11,
      "outputs": [
        {
          "output_type": "stream",
          "name": "stdout",
          "text": [
            "Resposta **Qualidades Essenciais:**\n",
            "\n",
            "* **Paixão por Tecnologia:** Um profundo interesse e curiosidade por computadores, programação e resolução de problemas.\n",
            "* **Habilidades Analíticas:** Capacidade de analisar problemas, identificar soluções e decompô-las em etapas menores.\n",
            "* **Atenção aos Detalhes:** Cuidadoso e meticuloso na atenção às minúcias, evitando erros e garantindo a precisão.\n",
            "* **Aprendizado Contínuo:** Interesse em adquirir novos conhecimentos e habilidades, acompanhando as tendências da indústria.\n",
            "* **Trabalho em Equipe:** Habilidade de colaborar eficazmente com outros, compartilhar ideias e trabalhar em direção a objetivos comuns.\n",
            "\n",
            "**Habilidades Técnicas:**\n",
            "\n",
            "* **Linguagens de Programação:** Proficiência em várias linguagens de programação, incluindo pelo menos uma linguagem de baixo nível (por exemplo, C/C++) e uma linguagem de alto nível (por exemplo, Python/Java).\n",
            "* **Estruturas de Dados e Algoritmos:** Compreensão aprofundada de estruturas de dados comuns (por exemplo, arrays, listas, árvores) e algoritmos (por exemplo, ordenação, pesquisa).\n",
            "* **Design de Software:** Princípios e práticas de design de software, incluindo orientação a objetos, programação modular e padrões de design.\n",
            "* **Banco de Dados:** Conhecimento de sistemas de banco de dados, incluindo SQL, NoSQL e conceitos de modelagem de dados.\n",
            "* **Teste de Software:** Habilidades de teste, incluindo teste de unidade, integração e aceitação.\n",
            "\n",
            "**Habilidades Pessoais:**\n",
            "\n",
            "* **Comunicação:** Habilidade de se comunicar efetivamente com colegas, partes interessadas e usuários finais, explicando conceitos técnicos de forma clara e concisa.\n",
            "* **Resolução de Problemas:** Capacidade de identificar e resolver problemas complexos, pensando criticamente e explorando opções alternativas.\n",
            "* **Resiliência:** Capacidade de lidar com desafios e contratempos, mantendo o foco e perseverando.\n",
            "* **Ética:** Aderência a altos padrões éticos, incluindo integridade, honestidade e respeito pela propriedade intelectual.\n",
            "* **Automotivação:** Habilidade de trabalhar de forma independente, definir metas e buscar conhecimento e crescimento.\n",
            "\n",
            "**Dicas para Desenvolvimento:**\n",
            "\n",
            "* **Pratique regularmente:** Escreva código todos os dias, resolva problemas de programação e crie projetos pessoais.\n",
            "* **Participe de comunidades online:** Junte-se a fóruns, grupos de discussão e redes sociais para se conectar com outros programadores e aprender com suas experiências.\n",
            "* **Construa um portfólio:** Crie uma coleção de seus projetos de programação para demonstrar suas habilidades e conhecimento.\n",
            "* **Obtenha feedback:** Peça a outros programadores que revisem seu código e forneçam feedback construtivo.\n",
            "* **Mantenha-se atualizado:** Acompanhe as últimas tendências da indústria, leia livros técnicos e participe de conferências.\n"
          ]
        }
      ]
    }
  ]
}